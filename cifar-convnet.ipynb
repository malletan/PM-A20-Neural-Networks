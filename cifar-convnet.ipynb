{
 "cells": [
  {
   "cell_type": "code",
   "execution_count": 3,
   "metadata": {},
   "outputs": [],
   "source": [
    "import numpy as np\n",
    "from tensorflow import keras\n",
    "from tensorflow.keras import layers\n",
    "from tensorflow.keras.datasets import cifar10"
   ]
  },
  {
   "cell_type": "code",
   "execution_count": 32,
   "metadata": {},
   "outputs": [],
   "source": [
    "num_classes = 10\n",
    "input_shape = (32,32,3)\n",
    "\n",
    "(x_train, y_train), (x_test, y_test) = cifar10.load_data()"
   ]
  },
  {
   "cell_type": "code",
   "execution_count": 33,
   "metadata": {},
   "outputs": [
    {
     "name": "stdout",
     "output_type": "stream",
     "text": [
      "<class 'numpy.uint8'>\n",
      "x_train shape: (50000, 32, 32, 3)\n",
      "50000 train samples\n",
      "10000 test samples\n"
     ]
    }
   ],
   "source": [
    "print(type(x_train[0][0][0][0]))\n",
    "x_train = x_train.astype(\"float32\") / 255\n",
    "x_test = x_test.astype(\"float32\") / 255\n",
    "#x_train = np.expand_dims(x_train, -1)\n",
    "#x_test = np.expand_dims(x_test, -1)\n",
    "print(\"x_train shape:\", x_train.shape)\n",
    "print(x_train.shape[0], \"train samples\")\n",
    "print(x_test.shape[0], \"test samples\")"
   ]
  },
  {
   "cell_type": "code",
   "execution_count": 34,
   "metadata": {},
   "outputs": [],
   "source": [
    "y_train = keras.utils.to_categorical(y_train, num_classes)\n",
    "y_test = keras.utils.to_categorical(y_test, num_classes)"
   ]
  },
  {
   "cell_type": "code",
   "execution_count": 35,
   "metadata": {},
   "outputs": [],
   "source": [
    "model = keras.Sequential(\n",
    "    [\n",
    "        keras.Input(shape=input_shape),\n",
    "        layers.Conv2D(32, kernel_size=(3,3), padding='same', activation='relu'),\n",
    "        layers.Conv2D(32, kernel_size=(3,3), activation='relu'),\n",
    "        layers.MaxPooling2D(pool_size=(2,2)),\n",
    "        layers.Dropout(.25),\n",
    "        layers.Conv2D(64, kernel_size=(3,3), padding='same', activation='relu'),\n",
    "        layers.Conv2D(64, kernel_size=(3,3), activation='relu'),\n",
    "        layers.MaxPooling2D(pool_size=(2,2)),\n",
    "        layers.Dropout(.25),\n",
    "        layers.Flatten(),\n",
    "        layers.Dense(512, activation='relu'),\n",
    "        layers.Dropout(.5),\n",
    "        layers.Dense(num_classes, activation='softmax'),\n",
    "    ]\n",
    ")"
   ]
  },
  {
   "cell_type": "code",
   "execution_count": 36,
   "metadata": {},
   "outputs": [],
   "source": [
    "model.compile(loss='categorical_crossentropy',\n",
    "              optimizer='rmsprop',\n",
    "              metrics=['accuracy'])"
   ]
  },
  {
   "cell_type": "code",
   "execution_count": 39,
   "metadata": {},
   "outputs": [],
   "source": [
    "batch_size = 32\n",
    "epochs = 10\n",
    "num_predictions = 20\n",
    "save_dir = \"cifar10/saved_models\"\n",
    "model_name = \"keras__cifar10_trained_model.h5\""
   ]
  },
  {
   "cell_type": "code",
   "execution_count": 40,
   "metadata": {},
   "outputs": [
    {
     "name": "stdout",
     "output_type": "stream",
     "text": [
      "Train on 50000 samples, validate on 10000 samples\n",
      "Epoch 1/10\n",
      "50000/50000 [==============================] - 138s 3ms/sample - loss: 1.1735 - accuracy: 0.5880 - val_loss: 0.9914 - val_accuracy: 0.6585\n",
      "Epoch 2/10\n",
      "50000/50000 [==============================] - 140s 3ms/sample - loss: 1.0271 - accuracy: 0.6460 - val_loss: 1.1291 - val_accuracy: 0.6180\n",
      "Epoch 3/10\n",
      "50000/50000 [==============================] - 139s 3ms/sample - loss: 0.9745 - accuracy: 0.6694 - val_loss: 1.0187 - val_accuracy: 0.6746\n",
      "Epoch 4/10\n",
      "50000/50000 [==============================] - 137s 3ms/sample - loss: 0.9765 - accuracy: 0.6728 - val_loss: 0.9171 - val_accuracy: 0.7009\n",
      "Epoch 5/10\n",
      "50000/50000 [==============================] - 135s 3ms/sample - loss: 0.9969 - accuracy: 0.6749 - val_loss: 1.2956 - val_accuracy: 0.5810\n",
      "Epoch 6/10\n",
      "50000/50000 [==============================] - 137s 3ms/sample - loss: 1.0385 - accuracy: 0.6625 - val_loss: 1.0134 - val_accuracy: 0.6531\n",
      "Epoch 7/10\n",
      "50000/50000 [==============================] - 135s 3ms/sample - loss: 1.0698 - accuracy: 0.6579 - val_loss: 1.0357 - val_accuracy: 0.6555\n",
      "Epoch 8/10\n",
      "50000/50000 [==============================] - 135s 3ms/sample - loss: 1.0836 - accuracy: 0.6517 - val_loss: 1.0604 - val_accuracy: 0.6468\n",
      "Epoch 9/10\n",
      "50000/50000 [==============================] - 133s 3ms/sample - loss: 1.1103 - accuracy: 0.6478 - val_loss: 0.9219 - val_accuracy: 0.6912\n",
      "Epoch 10/10\n",
      "50000/50000 [==============================] - 133s 3ms/sample - loss: 1.1602 - accuracy: 0.6319 - val_loss: 1.0004 - val_accuracy: 0.6873\n"
     ]
    },
    {
     "data": {
      "text/plain": [
       "<tensorflow.python.keras.callbacks.History at 0x1ff25f1f588>"
      ]
     },
     "execution_count": 40,
     "metadata": {},
     "output_type": "execute_result"
    }
   ],
   "source": [
    "model.fit(x_train, y_train, \n",
    "          batch_size=batch_size,\n",
    "          epochs=epochs,\n",
    "          validation_data=(x_test, y_test),\n",
    "         shuffle=True)"
   ]
  },
  {
   "cell_type": "code",
   "execution_count": 41,
   "metadata": {},
   "outputs": [],
   "source": [
    "import os"
   ]
  },
  {
   "cell_type": "code",
   "execution_count": 42,
   "metadata": {},
   "outputs": [],
   "source": [
    "model_path = os.path.join(save_dir, model_name)\n",
    "model.save(model_path)"
   ]
  },
  {
   "cell_type": "code",
   "execution_count": 43,
   "metadata": {},
   "outputs": [
    {
     "name": "stdout",
     "output_type": "stream",
     "text": [
      "10000/10000 [==============================] - 5s 524us/sample - loss: 1.0004 - accuracy: 0.6873\n",
      "Test loss: 1.0004401766777038\n",
      "Test accuracy: 0.6873\n"
     ]
    }
   ],
   "source": [
    "scores = model.evaluate(x_test, y_test, verbose=1)\n",
    "print(\"Test loss:\", scores[0])\n",
    "print(\"Test accuracy:\", scores[1])"
   ]
  },
  {
   "cell_type": "code",
   "execution_count": null,
   "metadata": {},
   "outputs": [],
   "source": []
  }
 ],
 "metadata": {
  "kernelspec": {
   "display_name": "Python 3",
   "language": "python",
   "name": "python3"
  },
  "language_info": {
   "codemirror_mode": {
    "name": "ipython",
    "version": 3
   },
   "file_extension": ".py",
   "mimetype": "text/x-python",
   "name": "python",
   "nbconvert_exporter": "python",
   "pygments_lexer": "ipython3",
   "version": "3.7.9"
  }
 },
 "nbformat": 4,
 "nbformat_minor": 4
}
